{
  "cells": [
    {
      "cell_type": "markdown",
      "metadata": {
        "id": "QDa6XBoMfrC2"
      },
      "source": [
        "# Practice Session 08: Communities"
      ]
    },
    {
      "cell_type": "markdown",
      "metadata": {
        "id": "QG1vtghhfrC6"
      },
      "source": [
        "In this session we will use [NetworkX](https://networkx.github.io/) to compute communities on a graph. We will use a graph from the movies **Star Wars**.\n",
        "\n",
        "The dataset is contained in this input file that you will find in our [data](https://github.com/chatox/networks-science-course/tree/master/practicum/data) directory:\n",
        "* ``starwars.graphml``: co-occurence of characters in scenes in the Star Wars saga in [GraphML](http://graphml.graphdrawing.org/) format.\n",
        "\n",
        "\n",
        "<font size=\"-1\" color=\"gray\">(Remove this cell when delivering.)</font>"
      ]
    },
    {
      "cell_type": "code",
      "execution_count": null,
      "metadata": {
        "id": "T_0vWqTQfrC7"
      },
      "outputs": [],
      "source": [
        "# LEAVE AS-IS\n",
        "\n",
        "import io\n",
        "import networkx as nx\n",
        "import matplotlib.pyplot as plt\n",
        "import random\n",
        "import numpy as np\n",
        "import statistics"
      ]
    },
    {
      "cell_type": "markdown",
      "metadata": {
        "id": "sxqe5icqfrC9"
      },
      "source": [
        "# 1. The graph"
      ]
    },
    {
      "cell_type": "markdown",
      "metadata": {
        "id": "gUlxqVLFfrC-"
      },
      "source": [
        "The following code just loads the graph into variable *g*. Leave as-is.\n",
        "\n",
        "<font size=\"-1\" color=\"gray\">(Remove this cell when delivering.)</font>"
      ]
    },
    {
      "cell_type": "code",
      "execution_count": null,
      "metadata": {
        "id": "zplx1uZ0frDC"
      },
      "outputs": [],
      "source": [
        "# LEAVE AS-IS\n",
        "\n",
        "INPUT_GRAPH_FILENAME = \"starwars.graphml\"\n",
        "\n",
        "# Read the graph in GraphML format\n",
        "sw_in = nx.read_graphml(INPUT_GRAPH_FILENAME)\n",
        "\n",
        "# Re-label the nodes so they use the 'name' as label\n",
        "sw_relabeled = nx.relabel.relabel_nodes(sw_in, dict(sw_in.nodes(data='name')))\n",
        "\n",
        "# Convert the graph to undirected\n",
        "sw = sw_relabeled.to_undirected()"
      ]
    },
    {
      "cell_type": "markdown",
      "metadata": {
        "id": "t-zZ2DckfrDC"
      },
      "source": [
        "The following code, which you can leave as-is or modify for better visualization, displays a graph. It also accepts a ``partition`` argument, which we will use later on.\n",
        "\n",
        "<font size=\"-1\" color=\"gray\">(Remove this cell when delivering.)</font>"
      ]
    },
    {
      "cell_type": "code",
      "execution_count": null,
      "metadata": {
        "id": "FTaEaZrcfrDD"
      },
      "outputs": [],
      "source": [
        "# LEAVE AS-IS (OR MODIFY VISUALLY)\n",
        "\n",
        "def plot_graph(g, width=20, height=20, font_size=12, partition=None):\n",
        "\n",
        "    # Create a plot of width x height\n",
        "    plt.figure(figsize=(width, height))\n",
        "\n",
        "    # By default the partition is going to be all nodes in the same partition\n",
        "    if partition is None:\n",
        "        partition = [ set(g.nodes()) ]\n",
        "\n",
        "    # Number of partitions\n",
        "    num_parts = len(partition)\n",
        "\n",
        "    # Create a map from nodes to color using color values from 0.0 for the first partition\n",
        "    # to 1-1/P for the last partition, assuming there are P partitions\n",
        "    node_to_color = {}\n",
        "    part_color = 0.0\n",
        "    for part in partition:\n",
        "        for node in part:\n",
        "            node_to_color[node] = part_color\n",
        "        part_color += 1.0/num_parts\n",
        "\n",
        "    # Create a list of colors in the ordering of the nodes\n",
        "    colors = [node_to_color[node] for node in g.nodes()]\n",
        "\n",
        "    # Layout the nodes using a spring model\n",
        "    nx.draw_spring(g, with_labels=True, node_size=1000, font_size=font_size,\n",
        "                   cmap=plt.get_cmap('YlOrRd'), node_color=colors)\n",
        "\n",
        "    # Display\n",
        "    plt.show()"
      ]
    },
    {
      "cell_type": "code",
      "execution_count": null,
      "metadata": {
        "id": "Y75DkMoOfrDE"
      },
      "outputs": [],
      "source": [
        "# LEAVE AS-IS\n",
        "\n",
        "plot_graph(sw)"
      ]
    },
    {
      "cell_type": "markdown",
      "metadata": {
        "id": "KaZ945TcfrDF"
      },
      "source": [
        "# 2. K-core decomposition"
      ]
    },
    {
      "cell_type": "markdown",
      "metadata": {
        "id": "o0E3paR_frDF"
      },
      "source": [
        "Now we will perform a k-core decomposition, using the following auxiliary functions, which you can leave as-is.\n",
        "\n",
        "<font size=\"-1\" color=\"gray\">(Remove this cell when delivering.)</font>"
      ]
    },
    {
      "cell_type": "code",
      "execution_count": null,
      "metadata": {
        "id": "KIIt2fCyfrDF"
      },
      "outputs": [],
      "source": [
        "# LEAVE AS-IS\n",
        "\n",
        "def get_max_degree(g):\n",
        "    degree_sequence = [x[1] for x in g.degree()]\n",
        "    return(max(degree_sequence))\n",
        "\n",
        "\n",
        "def nodes_with_degree_less_or_equal_than(g, degree):\n",
        "    nodes = []\n",
        "    for node in g.nodes():\n",
        "        if g.degree(node) <= degree:\n",
        "            nodes.append(node)\n",
        "    return nodes"
      ]
    },
    {
      "cell_type": "markdown",
      "metadata": {
        "id": "dm_OmeJMfrDG"
      },
      "source": [
        "Complete the code for function `kcore_decomposition(g)`; to use this function, you do `node_to_kcore = kcore_decomposition(g)`.\n",
        "\n",
        "```python\n",
        "def kcore_decomposition(graph):\n",
        "    g = graph.copy()\n",
        "    max_degree = get_max_degree(g)\n",
        "\n",
        "    node_to_level = {}\n",
        "    for level in range(1, max_degree + 1):\n",
        "\n",
        "        while True:\n",
        "            # Obtain the list of nodes with degree <= level\n",
        "            nodes_in_level = nodes_with_degree_less_or_equal_than(g, level)\n",
        "\n",
        "            # Check if this list is empty\n",
        "            if len(nodes_in_level) == 0:\n",
        "                # TO-DO: implement (one line)\n",
        "\n",
        "            # If the list is not empty, assign the nodes to the\n",
        "            # corresponding level and remove the node\n",
        "            for node in nodes_in_level:\n",
        "                # TO-DO: implement this (two lines)\n",
        "\n",
        "    return(node_to_level)\n",
        "```\n",
        "\n",
        "<font size=\"-1\" color=\"gray\">(Remove this cell when delivering.)</font>"
      ]
    },
    {
      "cell_type": "markdown",
      "metadata": {
        "id": "pvMrgnm0frDG"
      },
      "source": [
        "<font size=\"+1\" color=\"red\">Replace this cell with your code for \"kcore_decomposition\". Please remember to include enough comments to explain what your code is doing.</font>"
      ]
    },
    {
      "cell_type": "markdown",
      "metadata": {
        "id": "s2KND7BBfrDH"
      },
      "source": [
        "Test your code. The following should print:\n",
        "\n",
        "```python\n",
        "K-core of JANSON: 1\n",
        "K-core of R2-D2: 8\n",
        "K-core of LUKE: 7\n",
        "K-core of DARTH VADER: 8\n",
        "```\n",
        "\n",
        "<font size=\"-1\" color=\"gray\">(Remove this cell when delivering.)</font>"
      ]
    },
    {
      "cell_type": "code",
      "execution_count": null,
      "metadata": {
        "id": "DwQhLeAPfrDH"
      },
      "outputs": [],
      "source": [
        "# LEAVE AS-IS\n",
        "\n",
        "node_to_kcore = kcore_decomposition(sw)\n",
        "\n",
        "for character in [\"JANSON\", \"R2-D2\", \"LUKE\", \"DARTH VADER\"]:\n",
        "    print(\"K-core of {:s}: {:d}\".format(character, node_to_kcore[character]))"
      ]
    },
    {
      "cell_type": "markdown",
      "metadata": {
        "id": "lqYeJrKUfrDH"
      },
      "source": [
        "Now, create and draw a sub-graph named `swcore`, containing only the nodes with k-core number greater or equal to **5**. You can use [Graph.subgraph](https://networkx.org/documentation/stable/reference/classes/generated/networkx.Graph.subgraph.html)\n",
        "\n",
        "<font size=\"-1\" color=\"gray\">(Remove this cell when delivering.)</font>"
      ]
    },
    {
      "cell_type": "markdown",
      "metadata": {
        "id": "cv__i6npfrDI"
      },
      "source": [
        "<font size=\"+1\" color=\"red\">Replace this cell with a brief commentary on this graph. What do the nodes left represent? </font>"
      ]
    },
    {
      "cell_type": "markdown",
      "metadata": {
        "id": "hp3rtvtZfrDI"
      },
      "source": [
        "# 3. Modularity of a partition"
      ]
    },
    {
      "cell_type": "markdown",
      "metadata": {
        "id": "ZPNLx2r1frDI"
      },
      "source": [
        "We will compute the modularity of a partitioning. First, let's draw a small toy graph.\n",
        "\n",
        "<font size=\"-1\" color=\"gray\">(Remove this cell when delivering.)</font>"
      ]
    },
    {
      "cell_type": "code",
      "execution_count": null,
      "metadata": {
        "id": "-qxpaLR3frDJ"
      },
      "outputs": [],
      "source": [
        "# Leave as-is\n",
        "\n",
        "g = nx.Graph()\n",
        "\n",
        "g.add_edge(0, 1)\n",
        "g.add_edge(1, 2)\n",
        "g.add_edge(2, 3)\n",
        "g.add_edge(3, 0)\n",
        "g.add_edge(0, 2)\n",
        "g.add_edge(3, 4)\n",
        "g.add_edge(4, 5)\n",
        "g.add_edge(5, 6)\n",
        "g.add_edge(6, 4)\n",
        "\n",
        "# NOTE: for each run, the visualization will be different, but the graph should have the connections indicated above\n",
        "plot_graph(g, height=4, width=18, font_size=30)"
      ]
    },
    {
      "cell_type": "markdown",
      "metadata": {
        "id": "ehZAcEIofrDJ"
      },
      "source": [
        "A partition of a graph is represented as a list of sets. Each set represents a part of the graph. For instance, the following are two partitions. The first one is arguably the most natural way of dividing this graph: nodes 0, 1, 2, 3 belong to one partition, and nodes 4, 5, and 6 to the other partition. The second one places the node 3 in the \"wrong\" partition.\n",
        "\n",
        "NetworkX has a function to compute the modularity of a partition: [community.quality.modularity](https://networkx.org/documentation/stable/reference/algorithms/generated/networkx.algorithms.community.quality.modularity.html). It applies the formula we discussed in class:\n",
        "\n",
        "$$\n",
        "Q = \\frac{1}{L} \\sum_{C} \\left( L_C - \\frac{k_C^2}{4L} \\right)\n",
        "$$\n",
        "\n",
        "Where:\n",
        "\n",
        "* Q is the modularity\n",
        "* C is a community\n",
        "* L<sub>C</sub> is the number of internal links in C (internal means connecting two nodes in C)\n",
        "* K<sub>C</sub> is the summation of the degree of nodes in C\n",
        "* L is the total number of links in the graph\n",
        "\n",
        "Remember that in modularity, the greater it is the better partitioned it is.\n",
        "\n",
        "<font size=\"-1\" color=\"gray\">(Remove this cell when delivering.)</font>"
      ]
    },
    {
      "cell_type": "code",
      "execution_count": null,
      "metadata": {
        "id": "TU3HrZUMfrDJ"
      },
      "outputs": [],
      "source": [
        "# LEAVE AS-IS\n",
        "\n",
        "partition1 = [\n",
        "    {0, 1, 2, 3},\n",
        "    {4, 5, 6}\n",
        "]\n",
        "plot_graph(g, height=6, width=18, font_size=30, partition=partition1)\n",
        "print(\"Modularity of partition 1 according to NetworkX: %.4f\" % nx.community.quality.modularity(g, partition1))\n",
        "\n",
        "\n",
        "partition2 = [\n",
        "    {0, 1, 2},\n",
        "    {3, 4, 5, 6}\n",
        "]\n",
        "plot_graph(g, height=6, width=18, font_size=30, partition=partition2)\n",
        "print(\"Modularity of partition 2 according to NetworkX: %.4f\" % nx.community.quality.modularity(g, partition2))"
      ]
    },
    {
      "cell_type": "markdown",
      "metadata": {
        "id": "D9v6bmC8frDK"
      },
      "source": [
        "Create a function `modularity(g, partition)`. First, define two auxiliary functions:\n",
        "\n",
        "* `Lc(g, C)`, returning the number of internal links within community C. An easy way of doing this is creating a [subgraph](https://networkx.org/documentation/stable/reference/classes/generated/networkx.Graph.subgraph.html) of g restricted to the nodes in C, and then counting the [number of edges](https://networkx.org/documentation/stable/reference/classes/generated/networkx.Graph.number_of_edges.html) in that subgraph.\n",
        "* `kc(g, C)`, returning the sumation of the degree of nodes in C in the graph g (do not create a subgraph).\n",
        "\n",
        "Then, write the function `modularity: def modularity(g, partition)` using these two auxiliary functions. Remember to use the formula defined in theory.\n",
        "\n",
        "<font size=\"-1\" color=\"gray\">(Remove this cell when delivering.)</font>"
      ]
    },
    {
      "cell_type": "markdown",
      "metadata": {
        "id": "ATwvbrFgfrDK"
      },
      "source": [
        "<font size=\"+1\" color=\"red\">Replace this cell with your code for `Lc(g, C)`, for `kc(g, C)` and for `modularity(g, partition)`.</font>"
      ]
    },
    {
      "cell_type": "markdown",
      "metadata": {
        "id": "BvMWzYYyfrDK"
      },
      "source": [
        "Use the following to test your code. The result should be:\n",
        "\n",
        "\n",
        "\n",
        "`Modularity of partition 1: mine=0.364198, networkx=0.364198`\n",
        "\n",
        "`Modularity of partition 2: mine=0.271605, networkx=0.271605`\n",
        "\n",
        "<font size=\"-1\" color=\"gray\">(Remove this cell when delivering.)</font>"
      ]
    },
    {
      "cell_type": "code",
      "execution_count": null,
      "metadata": {
        "id": "v99K7ShFfrDL"
      },
      "outputs": [],
      "source": [
        "# LEAVE AS-IS\n",
        "\n",
        "print(\"Modularity of partition 1: mine={:.6f}, networkx={:.6f}\".format(\n",
        "    modularity(g, partition1), nx.community.quality.modularity(g, partition1)))\n",
        "\n",
        "print(\"Modularity of partition 2: mine={:.6f}, networkx={:.6f}\".format(\n",
        "    modularity(g, partition2), nx.community.quality.modularity(g, partition2)))\n"
      ]
    },
    {
      "cell_type": "markdown",
      "metadata": {
        "id": "ojJi_zGDfrDL"
      },
      "source": [
        "# 4. Girvan-Newman algorithm"
      ]
    },
    {
      "cell_type": "markdown",
      "metadata": {
        "id": "EgsqvDJrfrDL"
      },
      "source": [
        "The Girvan-Newman algorithm generates a series of partitions of a graph. The first has simply the entire graph in one partition, and the last has one partition per node.\n",
        "\n",
        "The way in which the algorithm operates is by iteratively removing the edge with the largest edge betweenness, and returning a new partition every time the number of connected components of the graph increases.\n",
        "\n",
        "<font size=\"-1\" color=\"gray\">(Remove this cell when delivering.)</font>"
      ]
    },
    {
      "cell_type": "markdown",
      "metadata": {
        "id": "mLyjKKEBfrDL"
      },
      "source": [
        "## 4.1. Find the edge with the largest betweenness"
      ]
    },
    {
      "cell_type": "markdown",
      "metadata": {
        "id": "G7HhARZGfrDL"
      },
      "source": [
        "Now, write a function to find the edge with the largest betweenness in a graph.\n",
        "\n",
        "First, use function [edge_betweenness_centrality](https://networkx.org/documentation/stable/reference/algorithms/generated/networkx.algorithms.centrality.edge_betweenness_centrality.html) to obtain a dictionary in which keys are edges, and values are edge betweenness.\n",
        "\n",
        "Then, iterate through those keys and find the one with the maximum edge betweenness. Return that key.\n",
        "\n",
        "*Tip:* the dictionary returned by ``edge_betweenness_centrality`` sometimes has triples *(u,v,0)* as keys, instead of simple tuples *(u,v)*. In that case, remember to return simply *(u,v)*. You can check how many values a tuple *t* contains by using ``len(t)``.\n",
        "\n",
        "<font size=\"-1\" color=\"gray\">(Remove this cell when delivering.)</font>"
      ]
    },
    {
      "cell_type": "markdown",
      "metadata": {
        "id": "5Bc4Z_flfrDM"
      },
      "source": [
        "<font size=\"+1\" color=\"red\">Replace this cell with your code for `largest_betweenness_edge`, using the edge_betweenness_centrality function in NetworkX</font>"
      ]
    },
    {
      "cell_type": "code",
      "execution_count": null,
      "metadata": {
        "id": "8WJOs8nSfrDM"
      },
      "outputs": [],
      "source": [
        "# LEAVE AS-IS\n",
        "# The answer should be pretty obvious, considering the graph\n",
        "\n",
        "print(largest_betweenness_edge(g))"
      ]
    },
    {
      "cell_type": "markdown",
      "metadata": {
        "id": "IgeY6Xv_frDM"
      },
      "source": [
        "## 4.2. Iteratively remove the edge with the largest betweenness"
      ]
    },
    {
      "cell_type": "markdown",
      "metadata": {
        "id": "chhphvs1frDM"
      },
      "source": [
        "We will use the following auxiliary function, that you can leave as-is. The reason we are introducing function `list_connected_components` is convenience, as the function [connected_components](https://networkx.org/documentation/stable/reference/algorithms/generated/networkx.algorithms.components.connected_components.html) in NetworkX returns a [generator](https://wiki.python.org/moin/Generators) instead of a list.\n",
        "\n",
        "<font size=\"-1\" color=\"gray\">(Remove this cell when delivering.)</font>"
      ]
    },
    {
      "cell_type": "code",
      "execution_count": null,
      "metadata": {
        "id": "9TtcW0D5frDe"
      },
      "outputs": [],
      "source": [
        "# LEAVE AS-IS\n",
        "\n",
        "def list_connected_components(g):\n",
        "    return list(nx.connected_components(g))\n",
        "\n",
        "def number_connected_components(g):\n",
        "    return len(list_connected_components(g))\n"
      ]
    },
    {
      "cell_type": "markdown",
      "metadata": {
        "id": "lWRx2IDdfrDe"
      },
      "source": [
        "Now, implement the `girvan_newman` algorithm using the following template:\n",
        "\n",
        "```python\n",
        "def girvan_newman(orig):\n",
        "\n",
        "    # Copy the original graph\n",
        "    g = orig.copy()\n",
        "\n",
        "    # All of the nodes in a single partition is the first partition we create\n",
        "    partition_sequence = [list_connected_components(g)]\n",
        "    \n",
        "    # Compute the current number of connected components (ncomp)\n",
        "    # TO-DO complete this\n",
        "    \n",
        "    # While we have not arrived to a situation where each node is a singleton\n",
        "    while ncomp < g.number_of_nodes():\n",
        "        \n",
        "        # Find an edge to remove and remove it\n",
        "        # TO-DO complete this\n",
        "        \n",
        "        # Recompute the new number of connected components (ncomp_new)\n",
        "        # TO-DO complete this\n",
        "        \n",
        "        # If the number of connected components has increased\n",
        "        if ncomp_new > ncomp:\n",
        "            \n",
        "            # Add to the partition sequence the list of connected components\n",
        "            # TO-DO complete this\n",
        "            \n",
        "            # Update the number of connected components\n",
        "            ncomp = ncomp_new\n",
        "\n",
        "    return partition_sequence\n",
        "```\n",
        "\n",
        "\n",
        "The output should be partition sequence, i.e., a list of partitions of the graph. In this particular case, the partition sequence looks like this:\n",
        "\n",
        "```python\n",
        "[[{0, 1, 2, 3, 4, 5, 6}],\n",
        " [{0, 1, 2, 3}, {4, 5, 6}],\n",
        " [{0, 2, 3}, {1}, {4, 5, 6}],\n",
        " ...\n",
        " [{0}, {1}, {2}, {3}, {4}, {5}, {6}]]\n",
        "```\n",
        "\n",
        "The way to interpret this is as follows:\n",
        "\n",
        "* The first partition is simply all nodes in a single part\n",
        "* The second partition happens after removing edge (3, 4), and divides the graph into two partitions\n",
        "* The third partition happens after removing edges (0, 1) and (1, 2), ...\n",
        "* ...\n",
        "* The last partition happens after removing all edges, and each node is a singleton\n",
        "\n",
        "<font size=\"-1\" color=\"gray\">(Remove this cell when delivering.)</font>"
      ]
    },
    {
      "cell_type": "markdown",
      "metadata": {
        "id": "9es1VmTjfrDe"
      },
      "source": [
        "<font size=\"+1\" color=\"red\">Replace this cell with your code for `girvan_newman` following the template above</font>"
      ]
    },
    {
      "cell_type": "code",
      "execution_count": null,
      "metadata": {
        "id": "TULc9bqGfrDf"
      },
      "outputs": [],
      "source": [
        "# LEAVE AS-IS\n",
        "\n",
        "def run_girvan_newman(g):\n",
        "\n",
        "    partitions = girvan_newman(g)\n",
        "    modularity_profile = []\n",
        "    for partition in partitions:\n",
        "        print(\"Partition %s\" % (partition,) )\n",
        "        m = modularity(g, partition)\n",
        "        print(\"Modularity: %.4f\" % m)\n",
        "        modularity_profile.append(m)\n",
        "        print()\n",
        "\n",
        "    plt.xlabel(\"Iteration\")\n",
        "    plt.ylabel(\"Modularity\")\n",
        "    plt.title(\"Modularity profile\")\n",
        "    plt.plot(modularity_profile)"
      ]
    },
    {
      "cell_type": "code",
      "execution_count": null,
      "metadata": {
        "id": "jzUETbYbfrDg"
      },
      "outputs": [],
      "source": [
        "# LEAVE AS-IS\n",
        "\n",
        "run_girvan_newman(g)"
      ]
    },
    {
      "cell_type": "code",
      "execution_count": null,
      "metadata": {
        "id": "vzbr2xwHfrDg"
      },
      "outputs": [],
      "source": [
        "# LEAVE AS-IS\n",
        "\n",
        "run_girvan_newman(swcore)"
      ]
    },
    {
      "cell_type": "markdown",
      "metadata": {
        "id": "TiuXLT2RfrDh"
      },
      "source": [
        "<font size=\"+1\" color=\"red\">Replace this cell with a brief commentary about the modularity profiles above, and which would be the partitioning that should be chosen in each case.</font>"
      ]
    },
    {
      "cell_type": "markdown",
      "metadata": {
        "id": "0n32N1c_frDh"
      },
      "source": [
        "Create function `run_girvan_newman_modularity` that runs Girvan-Newman and returns the partition with the largest modularity.\n",
        "\n",
        "<font size=\"-1\" color=\"gray\">(Remove this cell when delivering.)</font>"
      ]
    },
    {
      "cell_type": "markdown",
      "metadata": {
        "id": "ENBKyHZbfrDh"
      },
      "source": [
        "<font size=\"+1\" color=\"red\">Replace this cell with your code for `run_girvan_newman_modularity`.</font>"
      ]
    },
    {
      "cell_type": "markdown",
      "metadata": {
        "id": "HdacClSqfrDh"
      },
      "source": [
        "The following cell, which you can leave as-is, runs this over the entire graph.\n",
        "\n",
        "<font size=\"-1\" color=\"gray\">(Remove this cell when delivering.)</font>"
      ]
    },
    {
      "cell_type": "code",
      "source": [
        "# LEAVE AS-IS\n",
        "\n",
        "partition = run_girvan_newman_modularity(swcore)\n",
        "print(\"The best partition has modularity %.4f and %d communities\" % (modularity(swcore, partition), len(partition)))\n",
        "plot_graph(swcore, partition=partition)"
      ],
      "metadata": {
        "id": "I3rQCngmvQra"
      },
      "execution_count": null,
      "outputs": []
    },
    {
      "cell_type": "markdown",
      "metadata": {
        "id": "phf8mZyWfrDj"
      },
      "source": [
        "<font size=\"+1\" color=\"red\">Replace this cell with a brief commentary about what you see in these two partitionings. If you see some interesting community or communities, you can look online to check if the characters in those communities are somehow related in the series. Do you see some consistencies or inconsistencies when comparing the partitioning of the core nodes only, and the partitions in which they are placed when partitioning the entire graph?</font>"
      ]
    },
    {
      "cell_type": "markdown",
      "metadata": {
        "id": "eTeElGVUfrDj"
      },
      "source": [
        "# Deliver your code (individually)\n",
        "\n",
        "A .zip file containing:\n",
        "\n",
        "* This notebook.\n",
        "\n",
        "\n",
        "## Available, extra points are\n",
        "\n",
        "For extra points and extra learning, implement a label propagation algorithm for finding communities. This algorithm receives as input the desired number of communities and a target number of iterations. It initializes by assigning randomly each node to one of the communities. Then, for the target number of iterations, it moves every node to the community to which the majority of its neighbors belong.\n",
        "\n",
        "**Note:** if for extra points you go, ``<font size=\"+2\" color=\"blue\">Additional results: additional partitioning algorithm</font>`` at the top of your notebook, you must add.\n",
        "\n",
        "<font size=\"-1\" color=\"gray\">(This cell, when delivering, remove.)</font>"
      ]
    },
    {
      "cell_type": "markdown",
      "metadata": {
        "id": "Xd7BECuofrDj"
      },
      "source": [
        "<font size=\"+2\" color=\"#003300\">I hereby declare that, except for the code provided by the course instructors, all of my code, report, and figures were produced by myself.</font>"
      ]
    }
  ],
  "metadata": {
    "kernelspec": {
      "display_name": "Python 3",
      "language": "python",
      "name": "python3"
    },
    "language_info": {
      "codemirror_mode": {
        "name": "ipython",
        "version": 3
      },
      "file_extension": ".py",
      "mimetype": "text/x-python",
      "name": "python",
      "nbconvert_exporter": "python",
      "pygments_lexer": "ipython3",
      "version": "3.10.12"
    },
    "colab": {
      "provenance": []
    }
  },
  "nbformat": 4,
  "nbformat_minor": 0
}